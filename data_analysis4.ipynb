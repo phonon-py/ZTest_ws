{
 "cells": [
  {
   "cell_type": "markdown",
   "metadata": {},
   "source": [
    "# Import"
   ]
  },
  {
   "cell_type": "code",
   "execution_count": 19,
   "metadata": {},
   "outputs": [],
   "source": [
    "from datetime import datetime\n",
    "import requests\n",
    "from bs4 import BeautifulSoup"
   ]
  },
  {
   "cell_type": "markdown",
   "metadata": {},
   "source": [
    "## Webページをダウンロード"
   ]
  },
  {
   "cell_type": "code",
   "execution_count": 11,
   "metadata": {},
   "outputs": [
    {
     "name": "stdout",
     "output_type": "stream",
     "text": [
      "<title>SEshop｜ 翔泳社の本・電子書籍通販サイト</title>\n",
      "<h2>予約ランキング</h2>\n",
      "<h2>書籍ランキング <span class=\"pull-right\"><a href=\"/ranking/1\"><span class=\"glyphicon glyphicon-chevron-right\"></span> もっと見る</a></span></h2>\n",
      "<h2>電子書籍ランキング<span class=\"pull-right\"><a href=\"/ranking/327/\"><span class=\"glyphicon glyphicon-chevron-right\"></span> もっと見る</a></span></h2>\n",
      "<h2>新刊案内</h2>\n",
      "<h2>申し込み受付中のセミナー</h2>\n",
      "<h2>商品カテゴリー</h2>\n",
      "<h2>人気商品ランキング</h2>\n",
      "<h2>キャンペーン・特集</h2>\n"
     ]
    }
   ],
   "source": [
    "url = 'https://www.seshop.com/'\n",
    "r = requests.get(url)\n",
    "'''\n",
    "各ステータスの確認\n",
    "\n",
    "print(type(r))\n",
    "print(r.status_code)\n",
    "'''\n",
    "\n",
    "# htmlのソースを取得\n",
    "text = r.text\n",
    "for line in text.split('\\n'):\n",
    "    if '<title>' in line or '<h2>' in line:\n",
    "        # 余分な空白を削除し確認しやすくするためにstrip()を使用\n",
    "        print(line.strip())"
   ]
  },
  {
   "cell_type": "markdown",
   "metadata": {},
   "source": [
    "## Webページから要素を抜き出す"
   ]
  },
  {
   "cell_type": "code",
   "execution_count": 15,
   "metadata": {},
   "outputs": [
    {
     "name": "stdout",
     "output_type": "stream",
     "text": [
      "<title>SEshop｜ 翔泳社の本・電子書籍通販サイト</title>\n",
      "<h2>予約ランキング</h2>\n",
      "/ranking/1\n",
      "/ranking/327/\n"
     ]
    }
   ],
   "source": [
    "# htmlを解析したBeautifulSourpオブジェクトを生成\n",
    "soup = BeautifulSoup(text,'html.parser')\n",
    "# <title>タグの表示\n",
    "print(soup.title)\n",
    "# <h2>タグの表示\n",
    "print(soup.h2)\n",
    "\n",
    "# <h2>タグをすべて取得\n",
    "h2_tags = soup.find_all('h2')\n",
    "\n",
    "for h2 in h2_tags:\n",
    "    # 各<h2>タグ内の<a>タグを探す\n",
    "    a_tag = h2.find('a')\n",
    "    # print(a_tag)\n",
    "    # <a>タグが存在し、href属性を持っている場合、そのhref属性を表示\n",
    "    if a_tag and a_tag.has_attr('href'):\n",
    "        print(a_tag['href'])"
   ]
  },
  {
   "cell_type": "code",
   "execution_count": 17,
   "metadata": {},
   "outputs": [
    {
     "name": "stdout",
     "output_type": "stream",
     "text": [
      "226\n"
     ]
    }
   ],
   "source": [
    "a_tags = soup.find_all('a')\n",
    "print(len(a_tags))"
   ]
  },
  {
   "cell_type": "code",
   "execution_count": 18,
   "metadata": {},
   "outputs": [
    {
     "name": "stdout",
     "output_type": "stream",
     "text": [
      "タイトル: ヘルプ\n",
      "リンク:/help\n",
      "タイトル: 新規会員登録\n",
      "リンク:https://www.seshop.com/regist/\n",
      "タイトル: ログイン\n",
      "リンク:#modalLogin\n",
      "タイトル:\n",
      "リンク:/\n",
      "タイトル:お気に入り\n",
      "リンク:#modalLogin\n"
     ]
    }
   ],
   "source": [
    "for a_tag in a_tags[:5]:\n",
    "    print(f'タイトル:{a_tag.text}')\n",
    "    print(f'リンク:{a_tag[\"href\"]}')"
   ]
  },
  {
   "cell_type": "code",
   "execution_count": 20,
   "metadata": {},
   "outputs": [],
   "source": [
    "url = 'https://www.seshop.com/product/616'\n",
    "r = requests.get(url)\n",
    "soup = BeautifulSoup(r.text, 'html.parser')"
   ]
  },
  {
   "cell_type": "code",
   "execution_count": 23,
   "metadata": {},
   "outputs": [
    {
     "name": "stdout",
     "output_type": "stream",
     "text": [
      "divタグの数:21\n"
     ]
    }
   ],
   "source": [
    "# CSSセレクターで<div class=\"list\">の中の<div class=\"inner\">を取得\n",
    "divs = soup.select(\"div.list div.inner\")\n",
    "print(f\"divタグの数:{len(divs)}\")"
   ]
  },
  {
   "cell_type": "code",
   "execution_count": 29,
   "metadata": {},
   "outputs": [
    {
     "name": "stdout",
     "output_type": "stream",
     "text": [
      "2024.05.20発売\n",
      "2024.05.20\n",
      "2024.04.11発売\n",
      "2024.04.11\n",
      "2024.02.13発売\n",
      "2024.02.13\n",
      "2023.11.22発売\n",
      "2023.11.22\n",
      "2023.11.16発売\n",
      "2023.11.16\n"
     ]
    }
   ],
   "source": [
    "books = []\n",
    "for div in divs[:5]:\n",
    "    img_url = div.find(\"img\")[\"src\"]\n",
    "    # 日付の文字列を取得\n",
    "    day = div.find(\"span\", class_=\"date\").text.strip()\n",
    "    #! 元々の発売日を消す\n",
    "    day = day.replace(\"発売\", \"\")"
   ]
  },
  {
   "cell_type": "code",
   "execution_count": null,
   "metadata": {},
   "outputs": [],
   "source": []
  }
 ],
 "metadata": {
  "kernelspec": {
   "display_name": "venv",
   "language": "python",
   "name": "python3"
  },
  "language_info": {
   "codemirror_mode": {
    "name": "ipython",
    "version": 3
   },
   "file_extension": ".py",
   "mimetype": "text/x-python",
   "name": "python",
   "nbconvert_exporter": "python",
   "pygments_lexer": "ipython3",
   "version": "3.9.12"
  }
 },
 "nbformat": 4,
 "nbformat_minor": 2
}
