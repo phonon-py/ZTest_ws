{
 "cells": [
  {
   "cell_type": "markdown",
   "metadata": {},
   "source": [
    "# 比率の差の検定(Ztest)\n",
    "## 帰無仮説\n",
    "- 施策の効果はなかった。つまり確率p1-p2=0\n",
    "## 対立仮説\n",
    "- 施策に効果はあった。p1<p2で施策後の確率が大きく p1 - p2は負の値を取るため下側検定と言える"
   ]
  },
  {
   "cell_type": "code",
   "execution_count": 16,
   "metadata": {},
   "outputs": [],
   "source": [
    "import numpy as np\n",
    "import pandas as pd\n",
    "from scipy import stats\n",
    "from statsmodels.stats.proportion import proportions_ztest\n"
   ]
  },
  {
   "cell_type": "code",
   "execution_count": 23,
   "metadata": {},
   "outputs": [
    {
     "name": "stdout",
     "output_type": "stream",
     "text": [
      "帰無仮説を棄却し、対立仮説を採用します。\n"
     ]
    }
   ],
   "source": [
    "import numpy as np\n",
    "from statsmodels.stats.proportion import proportions_ztest\n",
    "\n",
    "# アクティブユーザー数\n",
    "user_before = 550\n",
    "user_after = 700\n",
    "\n",
    "# 標本の大きさ\n",
    "n = 1500\n",
    "\n",
    "# Zテストの実行、alternativeの引数'smaller'は下側検定\n",
    "stat, p_value = proportions_ztest([user_before, user_after], [n, n], alternative='smaller')\n",
    "\n",
    "# 有意水準\n",
    "alpha = 0.05\n",
    "\n",
    "# 結果の表示\n",
    "if p_value < alpha:\n",
    "    print(\"帰無仮説を棄却し、対立仮説を採用します。\")\n",
    "else:\n",
    "    print(\"帰無仮説を採用します。\")\n"
   ]
  },
  {
   "cell_type": "code",
   "execution_count": 24,
   "metadata": {},
   "outputs": [
    {
     "data": {
      "text/plain": [
       "1.3886899053083603e-08"
      ]
     },
     "execution_count": 24,
     "metadata": {},
     "output_type": "execute_result"
    }
   ],
   "source": [
    "p_value"
   ]
  },
  {
   "cell_type": "markdown",
   "metadata": {},
   "source": [
    "提供していただいた数値 1.3886899053083603e-08 は、非常に小さな値です。これは指数表記（科学的な表記法）であり、e-08 は 10 の -8 乗を表します。つまり、この数値は非常に小さな確率を示しています。\n",
    "\n",
    "この場合、p_value が 1.3886899053083603e-08 であるということは、帰無仮説に従ったデータが観測される確率が非常に低いことを意味します。有意水準を通常の 0.05 と比較すると、 1.3886899053083603e-08 は非常に小さいため、統計的に有意となります。したがって、この値をもとに判断すると、帰無仮説は棄却され、対立仮説が採用される可能性が高いです。\n",
    "\n",
    "簡単に言うと、非常に小さな p_value は、結果が偶然ではなく統計的に有意であることを示すものです。"
   ]
  },
  {
   "cell_type": "markdown",
   "metadata": {},
   "source": [
    "# 統計的に有意であるため施策は効果があったと言える"
   ]
  },
  {
   "cell_type": "markdown",
   "metadata": {},
   "source": []
  }
 ],
 "metadata": {
  "kernelspec": {
   "display_name": "py311",
   "language": "python",
   "name": "python3"
  },
  "language_info": {
   "codemirror_mode": {
    "name": "ipython",
    "version": 3
   },
   "file_extension": ".py",
   "mimetype": "text/x-python",
   "name": "python",
   "nbconvert_exporter": "python",
   "pygments_lexer": "ipython3",
   "version": "3.11.0"
  },
  "orig_nbformat": 4
 },
 "nbformat": 4,
 "nbformat_minor": 2
}
