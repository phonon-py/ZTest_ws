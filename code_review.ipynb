{
 "cells": [
  {
   "cell_type": "markdown",
   "metadata": {},
   "source": [
    "# 可読性を維持するための書き方(PEP8)"
   ]
  },
  {
   "cell_type": "markdown",
   "metadata": {},
   "source": [
    "## インポート文と複数行テキストの書き方"
   ]
  },
  {
   "cell_type": "code",
   "execution_count": null,
   "metadata": {},
   "outputs": [],
   "source": [
    "import datetime\n",
    "import math\n",
    "import os\n",
    "import re\n",
    "import threading\n",
    "import tkinter as tk\n",
    "from tkinter import font\n",
    "from tkinter import ttk\n",
    "from tkinter import messagebox\n",
    "\n",
    "import matplotlib\n",
    "import matplotlib.pyplot as plt\n",
    "import numpy as np\n",
    "import openpyxl\n",
    "import pandas as pd\n",
    "import xlwings as xw\n",
    "from tkcalendar import Calendar\n",
    "\n",
    "import time\n",
    "import pyautogui\n",
    "import shutil\n",
    "from dateutil.relativedelta import relativedelta\n",
    "import glob\n",
    "import pygetwindow as gw\n",
    "import sys\n",
    "\n",
    "class Application(tk.Frame):\n",
    "    \"\"\"\n",
    "    品特傾向管理アプリ Excel版のメイン処理を行うクラス。(要約は先頭に書く)\n",
    "    \n",
    "    1行空白を空けてから説明文\n",
    "    サイトからtxtをスクレイピング/データクレイジングし、\n",
    "    グラフ作成→エクセルへ追記する。\n",
    "    \"\"\"\n",
    "\n",
    "    def __init__(self, master):\n",
    "        super().__init__(master)\n",
    "        self.initialize_ui()\n",
    "        self.load_config()\n",
    "        self.setup_calendar_variables()\n",
    "        self.create_widgets()\n",
    "\n",
    "    # 省略（メソッドの定義）\n",
    "\n",
    "def main():\n",
    "    root = tk.Tk()\n",
    "    app = Application(master=root)\n",
    "    app.mainloop()\n",
    "\n",
    "if __name__ == '__main__':\n",
    "    main()\n"
   ]
  },
  {
   "cell_type": "markdown",
   "metadata": {},
   "source": [
    "## 変数の扱い方(グローバルで扱いたいものは__init__に書く)\n",
    "- Pythonにおいてクラス設計を行う際、特定のクラスのインスタンスに関連する変数は、可能な限りそのクラスの内部（特に__init__メソッド内）で定義するのが望ましいです。これにより、以下の利点が得られます：\n",
    "\n",
    "1. カプセル化: クラス内部で変数を定義することにより、カプセル化を実現し、オブジェクト指向の原則に沿った設計になります。\n",
    "\n",
    "2. 再利用性の向上: クラスのインスタンス変数として定義された変数は、そのクラスのインスタンスごとに異なる値を持つことができ、より柔軟なコードの再利用が可能になります。\n",
    "\n",
    "3. 保守性の向上: クラス内部で変数を管理することで、変数のスコープが限定され、コードの読みやすさと保守性が向上します。"
   ]
  },
  {
   "cell_type": "code",
   "execution_count": null,
   "metadata": {
    "vscode": {
     "languageId": "plaintext"
    }
   },
   "outputs": [],
   "source": [
    "class Application(tk.Frame):\n",
    "    def __init__(self, master):\n",
    "        super().__init__(master)\n",
    "        self.excel_path = \"\"  # インスタンス変数として定義\n",
    "        # その他の初期化処理\n"
   ]
  },
  {
   "cell_type": "markdown",
   "metadata": {},
   "source": [
    "## エラーハンドリング\n",
    "- クラス内でのエラーハンドリングにおいては、原則として「各メソッド（関数）で適切なエラーハンドリングを行う」というアプローチが望ましいです。これには以下の理由があります：\n",
    "\n",
    "1. 責任範囲の明確化: 各メソッドが独自のエラーを処理することで、そのメソッドが責任を持つ範囲が明確になります。\n",
    "\n",
    "2. 再利用性の向上: エラーハンドリングが各メソッド内で完結していれば、そのメソッドは他の場所でもより安全に再利用できます。\n",
    "\n",
    "3. デバッグと保守の容易化: エラーが発生した際に、どのメソッドで何が問題だったのかが分かりやすくなります。\n",
    "\n"
   ]
  },
  {
   "cell_type": "markdown",
   "metadata": {},
   "source": [
    "## 具体例(ステップバイステップ)\n",
    "### ステップ 1: エラーがどこで起きているか確認する\n",
    "- エラーメッセージを読む: エラーが起きたとき、Pythonはどこで何が間違っているか教えてくれるメッセージを表示します。このメッセージをよく読んで、エラーの原因を理解しましょう。\n",
    "### ステップ 2: 一つずつ関数をチェックする\n",
    "- 小さなテストを作る: 一度に大きなプログラム全体をテストするのは難しいので、小さな部分（特にエラーが発生している関数）を切り出して、それだけをテストしてみましょう。\n",
    "- 入力が正しいか確認する: 関数に間違ったデータや予想外のデータを入れていないか確認します。\n",
    "### ステップ 3: 関連する部分も見る\n",
    "- 他の関数も見る: エラーが出ている関数が他の関数に依存している場合は、それらの関数にも問題がないかチェックしましょう。\n",
    "- 外部からのデータをチェック: ファイルやインターネットからデータを取得している場合、そのデータが正しいかも確認しましょう。\n",
    "### ステップ 4: コードを見やすくする\n",
    "- シンプルにする: 難しいコードは、もっと簡単な方法で書けないか考えてみましょう。シンプルなコードはエラーを見つけやすくなります。\n",
    "- テストをする: 関数ごとに、正しい動作をするか小さなテストを書いてみましょう。\n",
    "### ステップ 5: エラーに備える\n",
    "- エラー処理を書く: プログラムがエラーに遭遇したときに、適切に対処するためのコード（try...exceptブロック）を書きます。\n",
    "- ユーザーに教える: エラーが発生したときに、ユーザーが理解できるようなメッセージを表示しましょう。\n",
    "### ステップ 6: プログラムを効率的にする\n",
    "- 速さをチェック: プログラムが遅くなっていないか確認しましょう。\n",
    "- メモリの使用量をチェック: プログラムがコンピュータのメモリをたくさん使いすぎていないかチェックしましょう。\n",
    "### ステップ 7: 説明とレビュー\n",
    "- 説明を書く: コードにコメントを書いて、何をしているかを説明しましょう。\n",
    "- 他の人に見てもらう: 分からないところがあれば、他の人にコードを見てもらってアドバイスをもらいましょう。"
   ]
  }
 ],
 "metadata": {
  "language_info": {
   "name": "python"
  }
 },
 "nbformat": 4,
 "nbformat_minor": 2
}
